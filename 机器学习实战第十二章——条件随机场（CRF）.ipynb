{
 "cells": [
  {
   "attachments": {
    "%E7%BA%BF%E6%80%A7%E9%93%BE%E6%9D%A1%E4%BB%B6%E9%9A%8F%E6%9C%BA%E5%9C%BA1.jpg": {
     "image/jpeg": "[encoded data removed]"
    }
   },
   "cell_type": "markdown",
   "metadata": {},
   "source": [
    "**摘要**  \n",
    "\n",
    "1. 马尔科夫随机场\n",
    "2. 条件随机场\n",
    "3. 线性链条件随机场 \n",
    "\n",
    "**马尔科夫随机场**\n",
    "\n",
    "上一次我们学习了隐马尔可夫模型，它属于有向图模型。 \n",
    "\n",
    "我们设无向图$G(V,E)$中节点的联合概率分布为$P(Y)$，$Y$是随机变量。  \n",
    "\n",
    "如果存在一个无向图，如下所示：  \n",
    "\n",
    "\n",
    "<img src=\"https://pic4.zhimg.com/80/v2-1a8572140431c85513ac56099c55cc0e_hd.jpg\",width=400,height=400>\n",
    "\n",
    "\n",
    "其中，A、B是无向图中被节点C分开的任意节点的组合。节点集合A、B、C所对应的随机变量分别为$Y_A$、 $Y_B$ 、 $Y_C$ 。如果满足下列马尔可夫条件独立：\n",
    "$$\n",
    "P(Y_A,Y_B|Y_C)=P(Y_A|Y_C)P(Y_B|Y_C)\n",
    "$$\n",
    "那么我们称此联合概率为马尔可夫随机场。\n",
    "\n",
    "\n",
    "\n",
    "## 条件随机场\n",
    "\n",
    "条件随机场（conditional random field，CRF）：给定随机变量X的条件下Y的条件概率分布的马尔可夫随机场。\n",
    "\n",
    "这句话怎么理解呢？\n",
    "\n",
    "在 $P(Y|X)$ 中，$Y$是输出变量，表示标记序列，$X$是输入变量，表示需要标注的观测序列。通俗讲，这里的$（X，Y）$就是我们已知的训练样本。\n",
    "\n",
    "$P(Y|X)$ 满足马尔可夫随机场，即满足下面的公式：\n",
    "$$\n",
    "P(Y_v|X,Y_w,w\\ne v)=P(Y_v|X,Y_w,w\\sim v)\n",
    "$$\n",
    "式子中 $w\\sim v$ 表示在图$G(V,E)$中与节点v有边链接的所有边， $w\\ne v $表示节点v以外的所有节点。上面的公式表明 $Y_v$ 只与直接连着的节点有关。\n",
    "\n",
    "\n",
    "\n",
    "## 线性链条件随机场\n",
    "\n",
    "下面我们主要解释应用比较多的线性链条件随机场。其图结构如下所示：\n",
    "\n",
    "![img](attachment:%E7%BA%BF%E6%80%A7%E9%93%BE%E6%9D%A1%E4%BB%B6%E9%9A%8F%E6%9C%BA%E5%9C%BA1.jpg)\n",
    "\n",
    "$Y_i$ 发生的概率只与直接相连的 $\\left\\{ X_i,Y_{i+1},Y_{i-1} \\right\\} $有关。线性链条件随机场主要用在标注问题中，$X$表示输入观测序列，$Y$表示对应的输出标记序列或状态序列。\n",
    "\n",
    "对于线性链条件随机场的理解有一篇文章写得非常好，我直接贴上地址，我也是通过这篇文章从而理解了这个模型，所以我在这里不赘述，直接移步原文：\n",
    "\n",
    "[Information to Conditional Random Fields](http://blog.echen.me/2012/01/03/introduction-to-conditional-random-fields/)\n",
    "\n",
    "中文翻译版：\n",
    "\n",
    "\n",
    "[CRF介绍](https://www.jianshu.com/p/55755fc649b1)\n",
    "\n",
    "\n",
    "以上就是条件随机场的全部内容，希望大家能有所得，下一次我们一起学习最大熵模型。\n"
   ]
  }
 ],
 "metadata": {
  "kernelspec": {
   "display_name": "Python 3",
   "language": "python",
   "name": "python3"
  },
  "language_info": {
   "codemirror_mode": {
    "name": "ipython",
    "version": 3
   },
   "file_extension": ".py",
   "mimetype": "text/x-python",
   "name": "python",
   "nbconvert_exporter": "python",
   "pygments_lexer": "ipython3",
   "version": "3.6.4"
  }
 },
 "nbformat": 4,
 "nbformat_minor": 2
}
