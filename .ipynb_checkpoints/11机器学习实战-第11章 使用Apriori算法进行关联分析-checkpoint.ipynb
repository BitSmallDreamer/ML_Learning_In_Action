{
 "cells": [
  {
   "cell_type": "markdown",
   "metadata": {
    "toc": true
   },
   "source": [
    "<h1>Table of Contents<span class=\"tocSkip\"></span></h1>\n",
    "<div class=\"toc\"><ul class=\"toc-item\"><li><span><a href=\"#关联分析\" data-toc-modified-id=\"关联分析-1\">关联分析</a></span></li><li><span><a href=\"#Apriori原理\" data-toc-modified-id=\"Apriori原理-2\">Apriori原理</a></span><ul class=\"toc-item\"><li><span><a href=\"#Apriori算法一般过程\" data-toc-modified-id=\"Apriori算法一般过程-2.1\">Apriori算法一般过程</a></span></li></ul></li><li><span><a href=\"#使用Apriori算法来发现频繁集\" data-toc-modified-id=\"使用Apriori算法来发现频繁集-3\">使用Apriori算法来发现频繁集</a></span><ul class=\"toc-item\"><li><span><a href=\"#生成候选项集\" data-toc-modified-id=\"生成候选项集-3.1\">生成候选项集</a></span></li></ul></li><li><span><a href=\"#计算候选数据集CK在数据集D中的支持度，并返回支持度大于最小支持度（MinSupport）的数据\" data-toc-modified-id=\"计算候选数据集CK在数据集D中的支持度，并返回支持度大于最小支持度（MinSupport）的数据-4\">计算候选数据集CK在数据集D中的支持度，并返回支持度大于最小支持度（MinSupport）的数据</a></span></li><li><span><a href=\"#从频繁项集中挖掘关联规则\" data-toc-modified-id=\"从频繁项集中挖掘关联规则-5\">从频繁项集中挖掘关联规则</a></span></li></ul></div>"
   ]
  },
  {
   "cell_type": "markdown",
   "metadata": {},
   "source": [
    "**本章内容：**\n",
    "> Apriori算法  \n",
    "频繁项集生成  \n",
    "关联规则生成   \n",
    "投票中的关联规则的发现   \n",
    "\n",
    "\n",
    "从大规模数据集中寻找物品间的隐含关系被称作关联分析(association analysis)或者关联规则学习(association rule learning)。 \n",
    "关联分析是一种在大规模数据集中寻找有趣关系的任务。这些关系可以有两种形式:频繁项 \n",
    "集或者关联规则。**频繁项集**(frequent item sets)是经常出现在一块的物品的集合,关联规则(association rules)暗示两种物品之间可能存在很强的关系。\n",
    "\n",
    "当寻找频繁项集时,频繁(frequent)的定义是什么? \n",
    "有许多概念可以解答上述问题,不过其中最重要的是**支持度和可信度**。 \n",
    "1.一个项集的**支持度**(support) \n",
    "被定义为数据集中包含该项集的记录所占的比例。支持度是针对项集来说的,因此可以定义一个最小支持度,而只保留满足最 \n",
    "小支持度的项集。\n",
    "\n",
    "2.**可信度或置信度**(confidence) \n",
    "是针对一条诸如{尿布} ➞ {葡萄酒}的关联规则来定义的。这 \n",
    "条规则的可信度被定义为“支持度({尿布, 葡萄酒})/支持度({尿布})”。从图11-1中可以看到,由 \n",
    "于{尿布, 葡萄酒}的支持度为3/5,尿布的支持度为4/5,所以“尿布 ➞ 葡萄酒”的可信度为3/4=0.75。 \n",
    "这意味着对于包含“尿布”的所有记录,我们的规则对其中75%的记录都适用。\n",
    "\n",
    "如果面对成千上万的数据，如生成一个物品所有可能组合的清单,然后对每一种组合统计它出现的频繁程度,但当物品成千上万时,上述做法非常非常慢。**这里就需要引入Apriori原理来减少计算量**。\n",
    "\n",
    "\n",
    "## 关联分析\n",
    "\n",
    "**Apriori算法**\n",
    ">优点：易编码实现   \n",
    "缺点：在大数据集上可能较慢   \n",
    "适用数据类型：数值型或者标称型数据  \n",
    "\n",
    "\n",
    "关联分析是一种在大规模数据集中寻找有趣关系的任务。这些关系可以由两种形式：频繁项集或者关联规则。\n",
    "\n",
    "频繁项集（frequent item sets）是经常出现在一块的物品的集合，关联规则（association rules）暗示两种物品之间可能存在很强的关系。\n",
    "\n",
    "一个来自Hole Foods天然食品店的简单交易清单\n",
    "\n",
    "|交易号码|商品|\n",
    "|--|--|\n",
    "|0|豆奶，莴苣|\n",
    "|1|莴苣，尿布，葡萄酒，甜菜|\n",
    "|2|豆奶，尿布，葡萄酒，橙汁|\n",
    "|3|莴苣，豆奶，尿布，葡萄酒|\n",
    "|4|莴苣，豆奶，尿布，橙汁|\n",
    "\n",
    "一个项集的支持度（support）被定义为数据集中包含该项集的记录所记录的比例。从上图可以得到，{豆奶}的支持度4/5，而在5条交易记录中有3条包含{豆奶，尿布}，因此{豆奶，尿布}的支持度为3/5,。支持度是针对项集来说的，因此可以定义为最小支持度，而只保留满足最小支持度的项集。\n",
    "\n",
    "可信度或置信区间（confidence）是针对一条诸如{尿布}$\\to${葡萄酒}的关联规则来定义。这条规则可信度被定义为“支持度{尿布，葡萄酒}/支持度{尿布}”。从上图可以看出，由于{尿布，葡萄酒}的支持度为3/5，了不得支持度为4/5，所以“尿布$\\to$葡萄酒”的可信度为3/4=0.75。这意味着对于包含“尿布”的所有记录，我们的规则对其中75%的记录都适用。\n",
    "\n",
    "\n",
    "\n",
    "## Apriori原理\n",
    "\n",
    "\n",
    "### Apriori算法一般过程\n",
    "\n",
    ">1. 收集数据：使用任意方法。\n",
    "2. 准备数据：任何数据类型都可以，因为我们只保存集合。\n",
    "3. 分析数据：使用任意方法。\n",
    "4. 训练算法：使用Apriori算法来找到频繁项集。\n",
    "5. 测试算法：不需要测试过程\n",
    "6. 使用算法：用于发现频繁项集以及物品之间的关联规则。\n",
    "\n",
    "![](./image/Ch11/1.jpg)\n",
    "\n",
    "为了降低所需的计算时间，研究人员发现一种所谓的Apriori原理.Apriori原理可以帮助我们减少可能感兴趣的项集。Apriori原理是说如果某个项集是频繁的，那么它的所有自己也是频繁的。这个原理反过来用，也就是说如果一个项集的非频繁集，那么它的所有超集也是非频繁的。\n",
    "![](./image/Ch11/2.png)\n",
    "\n",
    "**Apriori**\n",
    "\n",
    "apriori在拉丁语中指“来自以前”。当定义问题是，通常会使用先验知识或者假设，这被称作“一个先验”（a prior）。在贝叶斯统计中，使用先验知识作为条件进行推断也很常见。先验知识可能来自领域知识、先前的一些测量结果，等等。\n",
    "\n",
    "\n",
    "## 使用Apriori算法来发现频繁集\n",
    "\n",
    "关联分析的目标包括两项：发现频繁项集和发现关联规则。首先需要找到频繁项集，然后才能获得关联规则。\n",
    "\n",
    "Apriori算法是发现频繁项集的一种方法。Apriori算法的两个输入参数分别是最小支持度和数据集。该算法首先会生成所有单个物品的项集列表。接着扫描交易记录来查看哪些项集满足最小支持度要求，那些不满足最小支持度的集合会被去掉。然后，对剩下的集合进行组合以生成包含两个元素的项集。接下来，再重新扫描交易记录，去掉不满足最小支持度的项集。该过程重复进行直到所有项集都被去掉。\n",
    "\n",
    "### 生成候选项集\n",
    "\n",
    "在使用Python来对整个程序编码之前，需创建一些辅助函数。下面会创建一个用于构建初始集合的函数，也会创建一个通过扫描数据集以寻找记录子集的函数。数据集扫描的伪代码大致如下：   \n",
    "```\n",
    "对数据集中的每条交易记录tran\n",
    "对每个候选集can：\n",
    "    检查一下can是否是tran的子集：\n",
    "    如果是，则增加can的计数值\n",
    "对每个候选项集\n",
    "如果其支持度不低于最小值，则保留该项集\n",
    "返回所有频繁项集列表\n",
    "```     \n",
    "     \n",
    "     \n",
    "\n",
    "\n",
    "\n",
    "\n",
    "\n",
    "\n",
    "\n",
    "\n",
    "\n"
   ]
  },
  {
   "cell_type": "code",
   "execution_count": 55,
   "metadata": {},
   "outputs": [],
   "source": [
    "# -*- coding: utf-8 -*-\n",
    "from numpy import *\n",
    "# 创建集合C1，即对dataSet进行去重，排序，放入list中，然后转换所有的元素为frozenset\n",
    "def loadDataSet():\n",
    "    return [[1,3,4],[2,3,5],[1,2,3,5],[2,5]]\n",
    "\n",
    "def createC1(dataSet):\n",
    "    \"\"\"\n",
    "    createC1(创建集合C1)\n",
    "    \n",
    "    Args:\n",
    "        dataSet 元素数据集\n",
    "    Returns: \n",
    "        frozenset 返回一个frozenset格式的list\n",
    "    \"\"\"\n",
    "    C1=[]\n",
    "    for transaction in dataSet:\n",
    "        for item in transaction:\n",
    "            if not [item] in C1:\n",
    "                #遍历所有元素，如果不在C1中出现过，那么久append\n",
    "                C1.append([item])\n",
    "    #对数组进行‘从小到大’排序\n",
    "#     print('sort 前',C1)\n",
    "    C1.sort()\n",
    "    #frozenset表示冻结的set集合，元素无改变；可以把它当字典key来使用\n",
    "#     print('sort 后',C1)\n",
    "#     print('frozenset=',map(frozenset,C1))\n",
    "    return list(map(frozenset,C1))\n"
   ]
  },
  {
   "cell_type": "markdown",
   "metadata": {},
   "source": [
    "函数 loadDataSet() 创建了一个用于测试的简单数据集；   \n",
    "\n",
    "函数 createC1() 将构建集合 C1 。   \n",
    "\n",
    "Apriori算法首先构建集合 C1 ,然后扫描数据集判断这些只有一个元素的项集是否满足最小支持度的要求。那些满足最低要求的项集构成集合 L1 。而 L1 中的元素相互组合构成 C2 , C2 再进一步过滤变为 L2 。到这里,我想读者应该明白了该算法的主要思路。   \n",
    "\n",
    "因此算法需要一个函数 createC1() 来构建第一个候选项集的列表 C1 。由于算法一开始是从输入数据中提取候选项集列表,所以这里需要一个特殊的函数来处理,而后续的项集列表则是按一定的格式存放的。这里使用的格式就是Python中frozenset类型。frozenset是指被“冰冻”的集合,即用户不能修改它们。\n",
    "\n",
    "\n",
    "## 计算候选数据集CK在数据集D中的支持度，并返回支持度大于最小支持度（MinSupport）的数据"
   ]
  },
  {
   "cell_type": "code",
   "execution_count": 56,
   "metadata": {},
   "outputs": [],
   "source": [
    "#计算候选数据集CK在数据集D中的支持度，并返回支持度大于最小支持度（minSupport）的数据\n",
    "def scanD(D,Ck,minSupport):\n",
    "    \"\"\"\n",
    "    scanD（计算候选数据集CK在数据集D中的支持度，并返回支持度大于最小支持度minSupport）\n",
    "    \n",
    "    Args:\n",
    "        D 数据集\n",
    "        CK 候选项集列表\n",
    "        minSupport 最小支持度\n",
    "        \n",
    "    Returns:\n",
    "        reList 支持度大于minSupport的集合\n",
    "        supportData 候选项集支持的数据\n",
    "    \"\"\"\n",
    "    \n",
    "    # ssCnt 临时存放候选数据集CK的频率。例如：a->10,b->5,c->8\n",
    "#该函数用于从 C1 生成 L1 。\n",
    "\n",
    "#参数：数据集、候选项集列表 Ck以及感兴趣项集的最小支持度 minSupport\n",
    "    ssCnt={}\n",
    "    for tid in D:#遍历数据集\n",
    "        for can in Ck:#遍历候选项\n",
    "            if can.issubset(tid):#判断候选项中是否含数据集的各项\n",
    "                #if not ssCnt.has_key(can): # python3 can not support\n",
    "                if not can in ssCnt:\n",
    "                    ssCnt[can]=1 #不含设为1\n",
    "                else: ssCnt[can]+=1#有则计数加1\n",
    "    numItems=float(len(D))#数据集大小\n",
    "    retList = []#L1初始化\n",
    "    supportData = {}#记录候选项中各个数据的支持度\n",
    "    for key in ssCnt:\n",
    "        support = ssCnt[key]/numItems#计算支持度\n",
    "        if support >= minSupport:\n",
    "            retList.insert(0,key)#满足条件加入L1中\n",
    "        supportData[key] = support\n",
    "    return retList, supportData\n",
    "                \n",
    "        "
   ]
  },
  {
   "cell_type": "code",
   "execution_count": 57,
   "metadata": {},
   "outputs": [
    {
     "data": {
      "text/plain": [
       "[[1, 3, 4], [2, 3, 5], [1, 2, 3, 5], [2, 5]]"
      ]
     },
     "execution_count": 57,
     "metadata": {},
     "output_type": "execute_result"
    }
   ],
   "source": [
    "dataSet=loadDataSet()\n",
    "dataSet"
   ]
  },
  {
   "cell_type": "code",
   "execution_count": 59,
   "metadata": {},
   "outputs": [
    {
     "data": {
      "text/plain": [
       "[frozenset({1}),\n",
       " frozenset({2}),\n",
       " frozenset({3}),\n",
       " frozenset({4}),\n",
       " frozenset({5})]"
      ]
     },
     "execution_count": 59,
     "metadata": {},
     "output_type": "execute_result"
    }
   ],
   "source": [
    "C1=createC1(dataSet)\n",
    "C1"
   ]
  },
  {
   "cell_type": "code",
   "execution_count": 66,
   "metadata": {},
   "outputs": [
    {
     "data": {
      "text/plain": [
       "[{1, 3, 4}, {2, 3, 5}, {1, 2, 3, 5}, {2, 5}]"
      ]
     },
     "execution_count": 66,
     "metadata": {},
     "output_type": "execute_result"
    }
   ],
   "source": [
    "D=list(map(set,dataSet))\n",
    "D"
   ]
  },
  {
   "cell_type": "code",
   "execution_count": 68,
   "metadata": {},
   "outputs": [
    {
     "data": {
      "text/plain": [
       "[frozenset({5}), frozenset({2}), frozenset({3}), frozenset({1})]"
      ]
     },
     "execution_count": 68,
     "metadata": {},
     "output_type": "execute_result"
    }
   ],
   "source": [
    "L1,suppData0=scanD(D,C1,0.5)\n",
    "L1"
   ]
  },
  {
   "cell_type": "markdown",
   "metadata": {},
   "source": [
    "上述4个项集构成了 L1 列表,该列表中的每个单物品项集至少出现在50%以上的记录中。由于物品4并没有达到最小支持度,所以没有包含在 L1 中。通过去掉这件物品,减少了查找两物品项集的工作量。\n",
    "\n",
    "**完整的Aprior实现**\n",
    "\n",
    "整个Apriori算法的伪代码如下:\n",
    "```\n",
    "当集合中项的个数大于0时:\n",
    "    构建一个k个项组成的候选项集的列表\n",
    "    检查数据以确认每个项集都是频繁的\n",
    "    保留频繁项集并构建k+1项组成的候选项集的列表(向上合并)\n",
    "```"
   ]
  },
  {
   "cell_type": "code",
   "execution_count": 70,
   "metadata": {},
   "outputs": [],
   "source": [
    "#total apriori\n",
    "def aprioriGen(Lk, k): #组合，向上合并\n",
    "    #creates Ck 参数：频繁项集列表 Lk 与项集元素个数 k\n",
    "    retList = []\n",
    "    lenLk = len(Lk)\n",
    "    for i in range(lenLk):\n",
    "        for j in range(i+1, lenLk): #两两组合遍历\n",
    "            L1 = list(Lk[i])[:k-2]; L2 = list(Lk[j])[:k-2]\n",
    "            L1.sort(); L2.sort()\n",
    "            if L1==L2: #若两个集合的前k-2个项相同时,则将两个集合合并\n",
    "                retList.append(Lk[i] | Lk[j]) #set union\n",
    "    return retList\n",
    "\n",
    "#apriori\n",
    "def apriori(dataSet, minSupport = 0.5):\n",
    "    C1 = createC1(dataSet)\n",
    "    D = list(map(set, dataSet)) #python3\n",
    "    L1, supportData = scanD(D, C1, minSupport)#单项最小支持度判断 0.5，生成L1\n",
    "    L = [L1]\n",
    "    k = 2\n",
    "    while (len(L[k-2]) > 0):#创建包含更大项集的更大列表,直到下一个大的项集为空\n",
    "        Ck = aprioriGen(L[k-2], k)#Ck\n",
    "        Lk, supK = scanD(D, Ck, minSupport)#get Lk\n",
    "        supportData.update(supK)\n",
    "        L.append(Lk)\n",
    "        k += 1\n",
    "    return L, supportData"
   ]
  },
  {
   "cell_type": "code",
   "execution_count": 71,
   "metadata": {},
   "outputs": [
    {
     "data": {
      "text/plain": [
       "([[frozenset({5}), frozenset({2}), frozenset({3}), frozenset({1})],\n",
       "  [frozenset({2, 3}), frozenset({3, 5}), frozenset({2, 5}), frozenset({1, 3})],\n",
       "  [frozenset({2, 3, 5})],\n",
       "  []],\n",
       " {frozenset({1}): 0.5,\n",
       "  frozenset({3}): 0.75,\n",
       "  frozenset({4}): 0.25,\n",
       "  frozenset({2}): 0.75,\n",
       "  frozenset({5}): 0.75,\n",
       "  frozenset({1, 3}): 0.5,\n",
       "  frozenset({2, 5}): 0.75,\n",
       "  frozenset({3, 5}): 0.5,\n",
       "  frozenset({2, 3}): 0.5,\n",
       "  frozenset({1, 5}): 0.25,\n",
       "  frozenset({1, 2}): 0.25,\n",
       "  frozenset({2, 3, 5}): 0.5})"
      ]
     },
     "execution_count": 71,
     "metadata": {},
     "output_type": "execute_result"
    }
   ],
   "source": [
    "apriori(dataSet)"
   ]
  },
  {
   "cell_type": "markdown",
   "metadata": {},
   "source": [
    "## 从频繁项集中挖掘关联规则\n",
    "前面我们介绍了用于发现 频繁项集 的 Apriori 算法，现在要解决的问题是如何找出 关联规则。\n",
    "\n",
    "要找到 关联规则，我们首先从一个 频繁项集 开始。 我们知道集合中的元素是不重复的，但我们想知道基于这些元素能否获得其它内容。 某个元素或某个元素集合可能会推导出另一个元素。 从先前 杂货店 的例子可以得到，如果有一个频繁项集 {豆奶,莴苣}，那么就可能有一条关联规则 “豆奶 -> 莴苣”。 这意味着如果有人买了豆奶，那么在统计上他会购买莴苣的概率比较大。 但是，这一条件反过来并不总是成立。 也就是说 “豆奶 -> 莴苣” 统计上显著，那么 “莴苣 -> 豆奶” 也不一定成立。\n",
    "\n",
    "前面我们给出了 频繁项集 的量化定义，即它满足最小支持度要求。\n",
    "对于 关联规则，我们也有类似的量化方法，这种量化指标称之为 可信度。\n",
    "一条规则 A -> B 的可信度定义为 support(A | B) / support(A)。（注意: 在 python 中 | 表示集合的并操作，而数学书集合并的符号是 U）。\n",
    "A | B 是指所有出现在集合 A 或者集合 B 中的元素。\n",
    "由于我们先前已经计算出所有 频繁项集 的支持度了，现在我们要做的只不过是提取这些数据做一次除法运算即可。\n",
    "\n",
    "\n",
    "\n",
    "\n",
    "\n",
    "\n",
    "人们最常寻找的两个目标是频繁项集与关联规则。上一节介绍如何使用Apriori算法来发现频繁项集,现在需要解决的问题是如何找出关联规则。\n",
    "\n",
    "对于关联规则,我们也有类似的量化方法,这种量化指标称为可信度。一条规则P ➞ H的可信度定义为 support(P |H)/support(P) 。记住,在Python中,操作符 | 表示集合的并操作。P | H 是指所有出现在集合 P 或者集合 H 中的元素。 \n",
    "\n",
    "\n",
    "![](./image/Ch11/3.png)\n",
    "\n",
    "\n",
    "\n",
    "可以观察到,如果某条规则并不满足最小可信度要求,那么该规则的所有子集也不会满足最小可信度要求。以上图为例,假设规则0,1,2 ➞ 3并不满足最小可信度要求,那么就知道任何左部为{0,1,2}子集的规则也不会满足最小可信度要求。 \n",
    "可以利用关联规则的上述性质属性来减少需要测试的规则数目。\n",
    "\n",
    "可以首先从一个频繁项集开始,接着创建一个规则列表,其中规则右部只包含一个 \n",
    "元素,然后对这些规则进行测试。接下来合并所有剩余规则来创建一个新的规则列表,其中规则右部包含两个元素。这种方法也被称作分级法。 \n",
    "从上节测试可以看出L频繁项集L[0]为只有单个元素的项集。"
   ]
  },
  {
   "cell_type": "code",
   "execution_count": 75,
   "metadata": {},
   "outputs": [],
   "source": [
    "#生成关联规则\n",
    "def generateRules(L, supportData, minConf=0.7):\n",
    "    #频繁项集列表、包含那些频繁项集支持数据的字典、最小可信度阈值\n",
    "    bigRuleList = [] #存储所有的关联规则\n",
    "    for i in range(1, len(L)):  #只获取有两个或者更多集合的项目，从1,即第二个元素开始，L[0]是单个元素的\n",
    "        # 两个及以上的才可能有关联一说，单个元素的项集不存在关联问题\n",
    "        for freqSet in L[i]:\n",
    "            H1 = [frozenset([item]) for item in freqSet]\n",
    "            #该函数遍历L中的每一个频繁项集并对每个频繁项集创建只包含单个元素集合的列表H1\n",
    "            if (i > 1):\n",
    "            #如果频繁项集元素数目超过2,那么会考虑对它做进一步的合并\n",
    "                rulesFromConseq(freqSet, H1, supportData, bigRuleList, minConf)\n",
    "            else:#第一层时，后件数为1\n",
    "                calcConf(freqSet, H1, supportData, bigRuleList, minConf)# 调用函数2\n",
    "    return bigRuleList\n",
    "\n",
    "#生成候选规则集合：计算规则的可信度以及找到满足最小可信度要求的规则\n",
    "def calcConf(freqSet, H, supportData, brl, minConf=0.7):\n",
    "    #针对项集中只有两个元素时，计算可信度\n",
    "    prunedH = []#返回一个满足最小可信度要求的规则列表\n",
    "    for conseq in H:#后件，遍历 H中的所有项集并计算它们的可信度值\n",
    "        conf = supportData[freqSet]/supportData[freqSet-conseq] #可信度计算，结合支持度数据\n",
    "        if conf >= minConf:\n",
    "            print (freqSet-conseq,'-->',conseq,'conf:',conf)\n",
    "            #如果某条规则满足最小可信度值,那么将这些规则输出到屏幕显示\n",
    "            brl.append((freqSet-conseq, conseq, conf))#添加到规则里，brl 是前面通过检查的 bigRuleList\n",
    "            prunedH.append(conseq)#同样需要放入列表到后面检查\n",
    "    return prunedH\n",
    "\n",
    "#合并\n",
    "def rulesFromConseq(freqSet, H, supportData, brl, minConf=0.7):\n",
    "    #参数:一个是频繁项集,另一个是可以出现在规则右部的元素列表 H\n",
    "    m = len(H[0])\n",
    "    if (len(freqSet) > (m + 1)): #频繁项集元素数目大于单个集合的元素数\n",
    "        Hmp1 = aprioriGen(H, m+1)#存在不同顺序、元素相同的集合，合并具有相同部分的集合\n",
    "        Hmp1 = calcConf(freqSet, Hmp1, supportData, brl, minConf)#计算可信度\n",
    "        if (len(Hmp1) > 1):    \n",
    "        #满足最小可信度要求的规则列表多于1,则递归来判断是否可以进一步组合这些规则\n",
    "            rulesFromConseq(freqSet, Hmp1, supportData, brl, minConf)"
   ]
  },
  {
   "cell_type": "code",
   "execution_count": 78,
   "metadata": {},
   "outputs": [],
   "source": [
    "L,suppData=apriori(dataSet,minSupport=0.5)"
   ]
  },
  {
   "cell_type": "code",
   "execution_count": 79,
   "metadata": {},
   "outputs": [
    {
     "name": "stdout",
     "output_type": "stream",
     "text": [
      "frozenset({5}) --> frozenset({2}) conf: 1.0\n",
      "frozenset({2}) --> frozenset({5}) conf: 1.0\n",
      "frozenset({1}) --> frozenset({3}) conf: 1.0\n"
     ]
    }
   ],
   "source": [
    "rules=generateRules(L,suppData,minConf=0.7)"
   ]
  },
  {
   "cell_type": "code",
   "execution_count": 80,
   "metadata": {},
   "outputs": [
    {
     "name": "stdout",
     "output_type": "stream",
     "text": [
      "frozenset({3}) --> frozenset({2}) conf: 0.6666666666666666\n",
      "frozenset({2}) --> frozenset({3}) conf: 0.6666666666666666\n",
      "frozenset({5}) --> frozenset({3}) conf: 0.6666666666666666\n",
      "frozenset({3}) --> frozenset({5}) conf: 0.6666666666666666\n",
      "frozenset({5}) --> frozenset({2}) conf: 1.0\n",
      "frozenset({2}) --> frozenset({5}) conf: 1.0\n",
      "frozenset({3}) --> frozenset({1}) conf: 0.6666666666666666\n",
      "frozenset({1}) --> frozenset({3}) conf: 1.0\n",
      "frozenset({5}) --> frozenset({2, 3}) conf: 0.6666666666666666\n",
      "frozenset({3}) --> frozenset({2, 5}) conf: 0.6666666666666666\n",
      "frozenset({2}) --> frozenset({3, 5}) conf: 0.6666666666666666\n"
     ]
    },
    {
     "data": {
      "text/plain": [
       "[(frozenset({3}), frozenset({2}), 0.6666666666666666),\n",
       " (frozenset({2}), frozenset({3}), 0.6666666666666666),\n",
       " (frozenset({5}), frozenset({3}), 0.6666666666666666),\n",
       " (frozenset({3}), frozenset({5}), 0.6666666666666666),\n",
       " (frozenset({5}), frozenset({2}), 1.0),\n",
       " (frozenset({2}), frozenset({5}), 1.0),\n",
       " (frozenset({3}), frozenset({1}), 0.6666666666666666),\n",
       " (frozenset({1}), frozenset({3}), 1.0),\n",
       " (frozenset({5}), frozenset({2, 3}), 0.6666666666666666),\n",
       " (frozenset({3}), frozenset({2, 5}), 0.6666666666666666),\n",
       " (frozenset({2}), frozenset({3, 5}), 0.6666666666666666)]"
      ]
     },
     "execution_count": 80,
     "metadata": {},
     "output_type": "execute_result"
    }
   ],
   "source": [
    "generateRules(L,suppData,minConf=0.5)"
   ]
  },
  {
   "cell_type": "code",
   "execution_count": null,
   "metadata": {},
   "outputs": [],
   "source": []
  },
  {
   "cell_type": "code",
   "execution_count": null,
   "metadata": {},
   "outputs": [],
   "source": []
  }
 ],
 "metadata": {
  "kernelspec": {
   "display_name": "Python 3",
   "language": "python",
   "name": "python3"
  },
  "language_info": {
   "codemirror_mode": {
    "name": "ipython",
    "version": 3
   },
   "file_extension": ".py",
   "mimetype": "text/x-python",
   "name": "python",
   "nbconvert_exporter": "python",
   "pygments_lexer": "ipython3",
   "version": "3.6.4"
  },
  "toc": {
   "base_numbering": 1,
   "nav_menu": {},
   "number_sections": false,
   "sideBar": true,
   "skip_h1_title": false,
   "title_cell": "Table of Contents",
   "title_sidebar": "Contents",
   "toc_cell": true,
   "toc_position": {},
   "toc_section_display": true,
   "toc_window_display": false
  }
 },
 "nbformat": 4,
 "nbformat_minor": 2
}
